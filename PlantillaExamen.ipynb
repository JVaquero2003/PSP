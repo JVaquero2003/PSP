{
 "cells": [
  {
   "cell_type": "markdown",
   "metadata": {},
   "source": [
    "## LOCK"
   ]
  },
  {
   "cell_type": "code",
   "execution_count": 2,
   "metadata": {},
   "outputs": [
    {
     "name": "stdout",
     "output_type": "stream",
     "text": [
      "200\n"
     ]
    }
   ],
   "source": [
    "import time\n",
    "import multiprocessing\n",
    "\n",
    "def deposit(balance, lock):\n",
    "    for i in range(100):\n",
    "        lock.acquire()\n",
    "        balance.value = balance.value + 2\n",
    "        lock.release()\n",
    "\n",
    "def withdraw(balance, lock):\n",
    "    for i in range(100):\n",
    "        lock.acquire()\n",
    "        balance.value = balance.value - 1\n",
    "        lock.release()\n",
    "\n",
    "if __name__ == '__main__':\n",
    "    balance = multiprocessing.Value('i', 200)\n",
    "    lock = multiprocessing.Lock()\n",
    "    d = multiprocessing.Process(target=deposit, args=(balance,lock))\n",
    "    w = multiprocessing.Process(target=withdraw, args=(balance,lock))\n",
    "\n",
    "    d.start()\n",
    "    w.start()\n",
    "\n",
    "    d.join()\n",
    "    w.join()\n",
    "\n",
    "    print(balance.value)\n"
   ]
  },
  {
   "cell_type": "markdown",
   "metadata": {},
   "source": [
    "## POOL"
   ]
  },
  {
   "cell_type": "code",
   "execution_count": null,
   "metadata": {},
   "outputs": [],
   "source": [
    "from multiprocessing import Pool, current_process\n",
    "import os\n",
    "\n",
    "workers = os.cpu_count() - 1\n",
    "tasks = os.cpu_count() * 2    \n",
    "\n",
    "def my_id(id):\n",
    "    print(f\"Hola, soy {current_process()._identity} de trabajador (con {id+1})\\n\")\n",
    "\n",
    "if __name__ == \"__main__\":\n",
    "\n",
    "    pool = Pool(workers)\n",
    "    pool.map(my_id, range(tasks))"
   ]
  },
  {
   "cell_type": "markdown",
   "metadata": {},
   "source": [
    "## Producer & Consumer"
   ]
  },
  {
   "cell_type": "code",
   "execution_count": 1,
   "metadata": {},
   "outputs": [
    {
     "name": "stdout",
     "output_type": "stream",
     "text": [
      "creando una cola de 10 elementos\n",
      "elemento 0 creado\n",
      "creando una cola de 10 elementos\n",
      "elemento 0 creado\n",
      "0 is a leap year\n",
      "0 is a leap year\n",
      "elemento 1 creadoelemento 1 creado\n",
      "\n",
      "elemento 2 creadoelemento 2 creado\n",
      "\n",
      "elemento 3 creadoelemento 3 creado\n",
      "\n",
      "elemento 4 creadoelemento 4 creado\n",
      "\n",
      "elemento 5 creadoelemento 5 creado\n",
      "\n",
      "elemento 6 creado\n",
      "elemento 6 creado\n",
      "elemento 7 creado\n",
      "elemento 7 creado\n",
      "elemento 8 creado\n",
      "elemento 8 creado\n",
      "elemento 9 creadoelemento 9 creado\n",
      "\n",
      "consumidor Thread-6 terminadoconsumidor Thread-5 terminado\n",
      "1 is not a leap year\n",
      "\n",
      "1 is not a leap year\n",
      "cola creada\n",
      "cola creada\n",
      "consumidor Thread-5 terminadoconsumidor Thread-6 terminado\n",
      "2 is not a leap year\n",
      "\n",
      "2 is not a leap year\n",
      "consumidor Thread-6 terminado\n",
      "3 is not a leap year\n",
      "consumidor Thread-5 terminado\n",
      "3 is not a leap year\n",
      "consumidor Thread-5 terminadoconsumidor Thread-6 terminado\n",
      "4 is a leap year\n",
      "\n",
      "4 is a leap year\n",
      "consumidor Thread-5 terminadoconsumidor Thread-6 terminado\n",
      "5 is not a leap year\n",
      "\n",
      "5 is not a leap year\n",
      "consumidor Thread-5 terminadoconsumidor Thread-6 terminado\n",
      "6 is not a leap year\n",
      "\n",
      "6 is not a leap year\n",
      "consumidor Thread-6 terminado\n",
      "7 is not a leap year\n",
      "consumidor Thread-5 terminado\n",
      "7 is not a leap year\n",
      "consumidor Thread-6 terminadoconsumidor Thread-5 terminado\n",
      "8 is a leap year\n",
      "\n",
      "8 is a leap year\n",
      "consumidor Thread-5 terminadoconsumidor Thread-6 terminado\n",
      "9 is not a leap year\n",
      "\n",
      "9 is not a leap year\n",
      "consumidor Thread-5 terminadoconsumidor Thread-6 terminado\n",
      "\n"
     ]
    }
   ],
   "source": [
    "import threading\n",
    "import time\n",
    "import queue\n",
    "from concurrent.futures import ThreadPoolExecutor\n",
    "from concurrent.futures import ProcessPoolExecutor\n",
    "\n",
    "\n",
    "class Producer(threading.Thread):\n",
    "\n",
    "    def __init__(self, queue):\n",
    "        super(Producer, self).__init__()\n",
    "        self.queue = queue\n",
    "\n",
    "    def run(self):\n",
    "        print(\"creando una cola de 10 elementos\")\n",
    "        for i in range(10):\n",
    "            self.queue.put(i)\n",
    "            print(f\"elemento {i} creado\")\n",
    "            time.sleep(1)\n",
    "\n",
    "        print(\"cola creada\")\n",
    "\n",
    "\n",
    "class Consumer(threading.Thread):\n",
    "\n",
    "    def __init__(self, queue):\n",
    "        threading.Thread.__init__(self)\n",
    "        self.queue = queue\n",
    "\n",
    "    def run(self):\n",
    "        while True:\n",
    "            if self.queue.empty():\n",
    "                break\n",
    "            year = self.queue.get()\n",
    "            if year % 4 == 0:\n",
    "                print(year, \"is a leap year\")\n",
    "            else:\n",
    "                print(year, \"is not a leap year\")\n",
    "            self.queue.task_done()\n",
    "            time.sleep(10)\n",
    "            print(f\"consumidor {self.name} terminado\")\n",
    "\n",
    "\n",
    "if __name__ == '__main__':\n",
    "    q = queue.Queue()\n",
    "\n",
    "\n",
    "    producers = [Producer(q) for i in range(2)]\n",
    "    consumers = [Consumer(q) for i in range(10)]\n",
    "\n",
    "    for i in producers: i.start() \n",
    "    for i in consumers: \n",
    "        i.start() \n",
    "\n",
    "    for i in producers: i.join() \n",
    "    for i in consumers: i.join()"
   ]
  }
 ],
 "metadata": {
  "kernelspec": {
   "display_name": "Python 3.10.1 64-bit",
   "language": "python",
   "name": "python3"
  },
  "language_info": {
   "codemirror_mode": {
    "name": "ipython",
    "version": 3
   },
   "file_extension": ".py",
   "mimetype": "text/x-python",
   "name": "python",
   "nbconvert_exporter": "python",
   "pygments_lexer": "ipython3",
   "version": "3.10.1"
  },
  "orig_nbformat": 4,
  "vscode": {
   "interpreter": {
    "hash": "822dfbdbe8a5da02c95839dc1f5f9eb8c528eb0b59512e821395592e4168091f"
   }
  }
 },
 "nbformat": 4,
 "nbformat_minor": 2
}
